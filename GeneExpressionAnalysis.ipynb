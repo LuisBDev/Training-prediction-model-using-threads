{
 "cells": [
  {
   "cell_type": "code",
   "execution_count": 13,
   "metadata": {},
   "outputs": [],
   "source": [
    "import pandas as pd\n",
    "import matplotlib.pyplot as plt\n",
    "import seaborn as sns\n",
    "import plotly.express as px\n",
    "import plotly.graph_objects as go\n",
    "import numpy as np\n",
    "import time"
   ]
  },
  {
   "cell_type": "code",
   "execution_count": 14,
   "metadata": {},
   "outputs": [],
   "source": [
    "from sklearn.model_selection import train_test_split\n",
    "\n",
    "#ruta del csv\n",
    "df = pd.read_csv('test.csv')\n",
    "\n",
    "# Dividir los datos\n",
    "X = df.drop('Cancer Present', axis=1)\n",
    "y = df['Cancer Present']\n",
    "X_train, X_test, y_train, y_test = train_test_split(X, y, test_size=0.3, random_state=101)\n"
   ]
  },
  {
   "cell_type": "markdown",
   "metadata": {},
   "source": [
    "Entrenamiento del modelo secuencial"
   ]
  },
  {
   "cell_type": "code",
   "execution_count": 15,
   "metadata": {},
   "outputs": [
    {
     "name": "stdout",
     "output_type": "stream",
     "text": [
      "Tiempo de ejecucion:  59.26436805725098\n"
     ]
    }
   ],
   "source": [
    "\n",
    "from sklearn.neighbors import KNeighborsClassifier\n",
    "\n",
    "# Entrenar el modelo\n",
    "modelo_knn = KNeighborsClassifier(n_neighbors=20)\n",
    "modelo_knn.fit(X_train, y_train)\n",
    "\n",
    "#tiempo de ejecucion\n",
    "\n",
    "start_time = time.time()\n",
    "\n",
    "y_pred_secuencial = modelo_knn.predict(X_test)\n",
    "\n",
    "end_time = time.time()\n",
    "total_time = end_time - start_time\n",
    "\n",
    "print(\"Tiempo de ejecucion: \", total_time)\n"
   ]
  },
  {
   "cell_type": "markdown",
   "metadata": {},
   "source": [
    "Entrenamiento del modelo con procesamiento paralelo"
   ]
  },
  {
   "cell_type": "code",
   "execution_count": 20,
   "metadata": {},
   "outputs": [
    {
     "name": "stdout",
     "output_type": "stream",
     "text": [
      "Tiempo de ejecución paralelo:  23.466369152069092\n"
     ]
    }
   ],
   "source": [
    "import time\n",
    "import numpy as np\n",
    "import joblib\n",
    "#import threading\n",
    "\n",
    "\n",
    "# Función wrapper para la predicción\n",
    "def predict_wrapper(model, data):\n",
    "    return model.predict(data)\n",
    "\n",
    "\n",
    "start_time_parallel = time.time()\n",
    "\n",
    "# Paralelizar la predicción \n",
    "with joblib.parallel_backend('threading', n_jobs=-1):\n",
    "    y_pred_parallel = joblib.Parallel()(joblib.delayed(predict_wrapper)(modelo_knn, X_test_batch) for X_test_batch in np.array_split(X_test, joblib.cpu_count()))\n",
    "\n",
    "# Concatenar los resultados de la predicción paralela\n",
    "y_pred_parallel = np.concatenate(y_pred_parallel, axis=0)\n",
    "\n",
    "end_time_parallel = time.time()\n",
    "\n",
    "print(\"Tiempo de ejecución paralelo: \", end_time_parallel - start_time_parallel)\n"
   ]
  }
 ],
 "metadata": {
  "kernelspec": {
   "display_name": "Python 3",
   "language": "python",
   "name": "python3"
  },
  "language_info": {
   "codemirror_mode": {
    "name": "ipython",
    "version": 3
   },
   "file_extension": ".py",
   "mimetype": "text/x-python",
   "name": "python",
   "nbconvert_exporter": "python",
   "pygments_lexer": "ipython3",
   "version": "3.10.4"
  },
  "vscode": {
   "interpreter": {
    "hash": "6b51c155caf704765be7aaac36740dd64032363dca71c46f331e93e64fbb456c"
   }
  }
 },
 "nbformat": 4,
 "nbformat_minor": 2
}
