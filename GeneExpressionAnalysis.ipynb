{
 "cells": [
  {
   "cell_type": "code",
   "execution_count": 15,
   "metadata": {},
   "outputs": [],
   "source": [
    "import pandas as pd\n",
    "import matplotlib.pyplot as plt\n",
    "import seaborn as sns\n",
    "import plotly.express as px\n",
    "import plotly.graph_objects as go\n",
    "import numpy as np\n",
    "import time"
   ]
  },
  {
   "cell_type": "code",
   "execution_count": 16,
   "metadata": {},
   "outputs": [],
   "source": [
    "from sklearn.model_selection import train_test_split\n",
    "\n",
    "df = pd.read_csv('test.csv')\n",
    "\n",
    "# Dividir los datos\n",
    "X = df.drop('Cancer Present', axis=1)\n",
    "y = df['Cancer Present']\n",
    "X_train, X_test, y_train, y_test = train_test_split(X, y, test_size=0.3, random_state=101)\n"
   ]
  },
  {
   "cell_type": "markdown",
   "metadata": {},
   "source": [
    "Entrenamiento del modelo secuencial"
   ]
  },
  {
   "cell_type": "code",
   "execution_count": 17,
   "metadata": {},
   "outputs": [
    {
     "name": "stdout",
     "output_type": "stream",
     "text": [
      "CPU times: total: 52.6 s\n",
      "Wall time: 1min 5s\n"
     ]
    }
   ],
   "source": [
    "\n",
    "from sklearn.neighbors import KNeighborsClassifier\n",
    "\n",
    "# Entrenar el modelo\n",
    "modelo_knn = KNeighborsClassifier(n_neighbors=20)\n",
    "modelo_knn.fit(X_train, y_train)\n",
    "\n",
    "#tiempo de ejecucion para la prediccion\n",
    "\n",
    "%time y_pred_secuencial = modelo_knn.predict(X_test)\n"
   ]
  },
  {
   "cell_type": "markdown",
   "metadata": {},
   "source": [
    "Entrenamiento del modelo con procesamiento paralelo"
   ]
  },
  {
   "cell_type": "code",
   "execution_count": 18,
   "metadata": {},
   "outputs": [],
   "source": [
    "import numpy as np\n",
    "import joblib"
   ]
  },
  {
   "cell_type": "code",
   "execution_count": 19,
   "metadata": {},
   "outputs": [
    {
     "name": "stdout",
     "output_type": "stream",
     "text": [
      "Wall time de ejecución paralela: 23.853410999989137 segundos\n"
     ]
    }
   ],
   "source": [
    "import timeit\n",
    "\n",
    "# Función wrapper para la predicción\n",
    "def predict_batch(model, data_batch):\n",
    "    return model.predict(data_batch)\n",
    "\n",
    "\n",
    "def parallel_prediction():\n",
    "    # Configurar el backend de joblib para usar hilos\n",
    "    with joblib.parallel_backend('threading', n_jobs=-1):\n",
    "        \n",
    "        # Dividir el conjunto de prueba en lotes para la paralelización\n",
    "        test_batches = np.array_split(X_test, joblib.cpu_count())\n",
    "        \n",
    "        # Realizar la predicción paralela\n",
    "        y_pred_batches = joblib.Parallel()(joblib.delayed(predict_batch)(modelo_knn, batch) for batch in test_batches)\n",
    "        \n",
    "        # Concatenar los resultados de la predicción paralela\n",
    "        y_pred_parallel = np.concatenate(y_pred_batches, axis=0)\n",
    "    \n",
    "    return y_pred_parallel\n",
    "\n",
    "\n",
    "# Ejecutar la función y medir el wall time\n",
    "start_time_parallel = timeit.default_timer()\n",
    "\n",
    "prediction_result = parallel_prediction()\n",
    "\n",
    "end_time_parallel = timeit.default_timer()\n",
    "\n",
    "wall_time_parallel = end_time_parallel - start_time_parallel\n",
    "print(f'Wall time de ejecución paralela: {wall_time_parallel} segundos')\n"
   ]
  }
 ],
 "metadata": {
  "kernelspec": {
   "display_name": "Python 3",
   "language": "python",
   "name": "python3"
  },
  "language_info": {
   "codemirror_mode": {
    "name": "ipython",
    "version": 3
   },
   "file_extension": ".py",
   "mimetype": "text/x-python",
   "name": "python",
   "nbconvert_exporter": "python",
   "pygments_lexer": "ipython3",
   "version": "3.10.4"
  },
  "vscode": {
   "interpreter": {
    "hash": "6b51c155caf704765be7aaac36740dd64032363dca71c46f331e93e64fbb456c"
   }
  }
 },
 "nbformat": 4,
 "nbformat_minor": 2
}
