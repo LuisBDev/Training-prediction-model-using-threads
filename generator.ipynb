{
 "cells": [
  {
   "cell_type": "code",
   "execution_count": 1,
   "metadata": {},
   "outputs": [],
   "source": [
    "import random\n",
    "import csv\n",
    "\n",
    "# Open the CSV file in write mode\n",
    "with open('test.csv', 'w', newline='') as file:\n",
    "    writer = csv.writer(file)\n",
    "\n",
    "    # Write the header row\n",
    "    writer.writerow(['Gene One', 'Gene Two', 'Cancer Present'])\n",
    "\n",
    "    # Write data using a for loop\n",
    "    for i in range(1000000):\n",
    "        first_number = random.randint(0, 10)\n",
    "        second_number = random.randint(0, 10)\n",
    "        third_number = random.choice([0, 1])\n",
    "        random_tuple = (first_number, second_number, third_number)\n",
    "\n",
    "        writer.writerow(random_tuple)\n"
   ]
  }
 ],
 "metadata": {
  "kernelspec": {
   "display_name": "Python 3",
   "language": "python",
   "name": "python3"
  },
  "language_info": {
   "codemirror_mode": {
    "name": "ipython",
    "version": 3
   },
   "file_extension": ".py",
   "mimetype": "text/x-python",
   "name": "python",
   "nbconvert_exporter": "python",
   "pygments_lexer": "ipython3",
   "version": "3.10.4"
  }
 },
 "nbformat": 4,
 "nbformat_minor": 2
}
